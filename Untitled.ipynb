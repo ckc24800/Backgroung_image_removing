{
 "cells": [
  {
   "cell_type": "code",
   "execution_count": 1,
   "id": "49ea5099",
   "metadata": {},
   "outputs": [
    {
     "name": "stderr",
     "output_type": "stream",
     "text": [
      "C:\\Users\\corporate\\Anaconda3\\lib\\site-packages\\onnxruntime\\capi\\onnxruntime_validation.py:26: UserWarning: Unsupported Windows version (8.1). ONNX Runtime supports Windows 10 and above, only.\n",
      "  warnings.warn(\n",
      "C:\\Users\\corporate\\Anaconda3\\lib\\site-packages\\paramiko\\transport.py:219: CryptographyDeprecationWarning: Blowfish has been deprecated\n",
      "  \"class\": algorithms.Blowfish,\n"
     ]
    }
   ],
   "source": [
    "from PIL import Image\n",
    "from rembg import remove"
   ]
  },
  {
   "cell_type": "code",
   "execution_count": 3,
   "id": "17c58b08",
   "metadata": {},
   "outputs": [],
   "source": [
    "input_image = Image.open('C:\\\\Users\\\\corporate\\\\Background image cleaning\\\\chethu.jpeg')"
   ]
  },
  {
   "cell_type": "code",
   "execution_count": 4,
   "id": "cadeff42",
   "metadata": {},
   "outputs": [],
   "source": [
    "out_image = remove(input_image)"
   ]
  },
  {
   "cell_type": "code",
   "execution_count": 5,
   "id": "41d683c2",
   "metadata": {},
   "outputs": [],
   "source": [
    "out_image.save('C:\\\\Users\\\\corporate\\\\Background image cleaning\\\\chethuwbg.png')"
   ]
  },
  {
   "cell_type": "code",
   "execution_count": null,
   "id": "2e7572f3",
   "metadata": {},
   "outputs": [],
   "source": []
  }
 ],
 "metadata": {
  "kernelspec": {
   "display_name": "Python 3 (ipykernel)",
   "language": "python",
   "name": "python3"
  },
  "language_info": {
   "codemirror_mode": {
    "name": "ipython",
    "version": 3
   },
   "file_extension": ".py",
   "mimetype": "text/x-python",
   "name": "python",
   "nbconvert_exporter": "python",
   "pygments_lexer": "ipython3",
   "version": "3.9.13"
  }
 },
 "nbformat": 4,
 "nbformat_minor": 5
}
